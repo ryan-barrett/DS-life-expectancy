{
  "nbformat": 4,
  "nbformat_minor": 0,
  "metadata": {
    "colab": {
      "name": "linear-regression.ipynb",
      "provenance": [],
      "collapsed_sections": []
    },
    "kernelspec": {
      "display_name": "Python 3",
      "language": "python",
      "name": "python3"
    },
    "language_info": {
      "codemirror_mode": {
        "name": "ipython",
        "version": 3
      },
      "file_extension": ".py",
      "mimetype": "text/x-python",
      "name": "python",
      "nbconvert_exporter": "python",
      "pygments_lexer": "ipython3",
      "version": "3.7.3"
    }
  },
  "cells": [
    {
      "cell_type": "markdown",
      "metadata": {
        "id": "RoybSmgXyuKw"
      },
      "source": [
        "# Predicting used car prices with linear regression\n",
        "#### Dr. Bruns"
      ]
    },
    {
      "cell_type": "markdown",
      "metadata": {
        "id": "PbS4IZjoyuKy"
      },
      "source": [
        "In this notebook we'll use experiment with linear regression in the prediction of used car prices.  We'll try different models, use polynomial features, and implement forward feature selection."
      ]
    },
    {
      "cell_type": "markdown",
      "metadata": {
        "id": "7Kmv3oxlyuKz"
      },
      "source": [
        "### Instructions:\n",
        "* problems for you to insert code are indicated with lines that begin with #@ followed by a problem number\n",
        "* always use a 75/25 split when splitting the data into training/test sets\n",
        "* always use 'random_state = 0' when using test_train_split so that you get the same answers as the model output"
      ]
    },
    {
      "cell_type": "code",
      "metadata": {
        "id": "YqabNwGPyuK1"
      },
      "source": [
        "import sys\n",
        "import numpy as np\n",
        "import pandas as pd\n",
        "import matplotlib.pyplot as plt\n",
        "from matplotlib import rcParams\n",
        "import seaborn as sns\n",
        "from scipy.stats import zscore\n",
        "from sklearn.linear_model import LinearRegression\n",
        "from sklearn.preprocessing import PolynomialFeatures\n",
        "from sklearn.metrics import mean_squared_error, r2_score\n",
        "from sklearn.model_selection import train_test_split, cross_val_score"
      ],
      "execution_count": 35,
      "outputs": []
    },
    {
      "cell_type": "code",
      "metadata": {
        "colab": {
          "base_uri": "https://localhost:8080/",
          "height": 36
        },
        "id": "uz33UJtmyuK9",
        "outputId": "32b427c1-81c1-4dcb-c410-b01ef80f3710"
      },
      "source": [
        "# code in this cell from: \n",
        "# https://stackoverflow.com/questions/27934885/how-to-hide-code-from-cells-in-ipython-notebook-visualized-with-nbviewer\n",
        "from IPython.display import HTML\n",
        "\n",
        "HTML('''<script>\n",
        "code_show=true; \n",
        "function code_toggle() {\n",
        " if (code_show){\n",
        " $('div.input').hide();\n",
        " } else {\n",
        " $('div.input').show();\n",
        " }\n",
        " code_show = !code_show\n",
        "} \n",
        "$( document ).ready(code_toggle);\n",
        "</script>\n",
        "<form action=\"javascript:code_toggle()\"><input type=\"submit\" value=\"Click here to display/hide the code.\"></form>''')"
      ],
      "execution_count": 36,
      "outputs": [
        {
          "output_type": "execute_result",
          "data": {
            "text/html": [
              "<script>\n",
              "code_show=true; \n",
              "function code_toggle() {\n",
              " if (code_show){\n",
              " $('div.input').hide();\n",
              " } else {\n",
              " $('div.input').show();\n",
              " }\n",
              " code_show = !code_show\n",
              "} \n",
              "$( document ).ready(code_toggle);\n",
              "</script>\n",
              "<form action=\"javascript:code_toggle()\"><input type=\"submit\" value=\"Click here to display/hide the code.\"></form>"
            ],
            "text/plain": [
              "<IPython.core.display.HTML object>"
            ]
          },
          "metadata": {
            "tags": []
          },
          "execution_count": 36
        }
      ]
    },
    {
      "cell_type": "code",
      "metadata": {
        "id": "vWFsxSViyuLD"
      },
      "source": [
        "# switch to seaborn default stylistic parameters\n",
        "sns.set()\n",
        "sns.set_context('notebook') "
      ],
      "execution_count": 37,
      "outputs": []
    },
    {
      "cell_type": "markdown",
      "metadata": {
        "id": "VXaO4H8KyuLH"
      },
      "source": [
        "### Read the Kuiper's 2008 car data\n",
        "We'll drop the Model and Trim features, as we are interested in making predictions without identifying the exact kind of car."
      ]
    },
    {
      "cell_type": "code",
      "metadata": {
        "id": "14awT-MVyuLI"
      },
      "source": [
        "df = pd.read_csv(\"https://raw.githubusercontent.com/grbruns/cst383/master/kuiper-2008-cars.csv\")\n",
        "df.drop(['Model', 'Trim'], inplace=True, axis=1)"
      ],
      "execution_count": 38,
      "outputs": []
    },
    {
      "cell_type": "markdown",
      "metadata": {
        "id": "d6PlBp2yyuLM"
      },
      "source": [
        "Are there any NA values in the data set?"
      ]
    },
    {
      "cell_type": "code",
      "metadata": {
        "colab": {
          "base_uri": "https://localhost:8080/"
        },
        "id": "-1kVd7ZzyuLN",
        "outputId": "1d53d7e5-e110-4c65-c41c-c5c1b42b33b9"
      },
      "source": [
        "df.info()"
      ],
      "execution_count": 39,
      "outputs": [
        {
          "output_type": "stream",
          "text": [
            "<class 'pandas.core.frame.DataFrame'>\n",
            "RangeIndex: 804 entries, 0 to 803\n",
            "Data columns (total 10 columns):\n",
            " #   Column    Non-Null Count  Dtype  \n",
            "---  ------    --------------  -----  \n",
            " 0   Price     804 non-null    float64\n",
            " 1   Mileage   804 non-null    int64  \n",
            " 2   Make      804 non-null    object \n",
            " 3   Type      804 non-null    object \n",
            " 4   Cylinder  804 non-null    int64  \n",
            " 5   Liter     804 non-null    float64\n",
            " 6   Doors     804 non-null    int64  \n",
            " 7   Cruise    804 non-null    int64  \n",
            " 8   Sound     804 non-null    int64  \n",
            " 9   Leather   804 non-null    int64  \n",
            "dtypes: float64(2), int64(6), object(2)\n",
            "memory usage: 62.9+ KB\n"
          ],
          "name": "stdout"
        }
      ]
    },
    {
      "cell_type": "markdown",
      "metadata": {
        "id": "HjKbN1lSyuLS"
      },
      "source": [
        "There appears to be no missing data; at least none in the form of NA values.\n",
        "Let's look at the relationships between some of the features."
      ]
    },
    {
      "cell_type": "code",
      "metadata": {
        "colab": {
          "base_uri": "https://localhost:8080/",
          "height": 565
        },
        "id": "bn6CfKu1yuLT",
        "outputId": "49326310-3123-4232-9689-bc7eee0cc5b3"
      },
      "source": [
        "# 1 Produce a grid of scatterplots using only Price, Mileage, and Liter\n",
        "# Note: use a semicolon after your last plot statement to supress\n",
        "# the non-graphical output.\n",
        "\n",
        "subset = df[['Price', 'Mileage', 'Liter']]\n",
        "\n",
        "sns.pairplot(data = subset)"
      ],
      "execution_count": 40,
      "outputs": [
        {
          "output_type": "execute_result",
          "data": {
            "text/plain": [
              "<seaborn.axisgrid.PairGrid at 0x7f1e75ff5c10>"
            ]
          },
          "metadata": {
            "tags": []
          },
          "execution_count": 40
        },
        {
          "output_type": "display_data",
          "data": {
            "image/png": "[encoded data removed]",
            "text/plain": [
              "<Figure size 540x540 with 12 Axes>"
            ]
          },
          "metadata": {
            "tags": []
          }
        }
      ]
    },
    {
      "cell_type": "markdown",
      "metadata": {
        "id": "zn0HwfcSyuLW"
      },
      "source": [
        "What kinds of cars are in the data set and what are their proportions?"
      ]
    },
    {
      "cell_type": "code",
      "metadata": {
        "colab": {
          "base_uri": "https://localhost:8080/",
          "height": 359
        },
        "id": "lbQpYaFfyuLX",
        "outputId": "022958c7-25ed-44af-9638-de053812cad2"
      },
      "source": [
        "#@ 2 Create a bar plot of the car types, showing the\n",
        "# number of cars of each type.\n",
        "\n",
        "df['Type'].value_counts().plot(kind='bar')\n",
        "plt.title('Number of cars by Type', fontsize=18)"
      ],
      "execution_count": 41,
      "outputs": [
        {
          "output_type": "execute_result",
          "data": {
            "text/plain": [
              "Text(0.5, 1.0, 'Number of cars by Type')"
            ]
          },
          "metadata": {
            "tags": []
          },
          "execution_count": 41
        },
        {
          "output_type": "display_data",
          "data": {
            "image/png": "[encoded data removed]",
            "text/plain": [
              "<Figure size 432x288 with 1 Axes>"
            ]
          },
          "metadata": {
            "tags": []
          }
        }
      ]
    },
    {
      "cell_type": "markdown",
      "metadata": {
        "id": "ssfU4V4xyuLa"
      },
      "source": [
        "Let's build a model to predict a used car's price from its mileage."
      ]
    },
    {
      "cell_type": "code",
      "metadata": {
        "id": "7h5jtcSxyuLb"
      },
      "source": [
        "#@ 3 Build a linear model using Mileage as the single predictor variable,\n",
        "# and Price as the target variable.  Fit the model using the entire data set.\n",
        "# Use the LinearRegression class and use variable 'reg' for your LinearRegression object.\n",
        "\n",
        "y = df['Price'].values\n",
        "predictors = ['Mileage']\n",
        "X = df[predictors].values\n",
        "\n",
        "X_train, X_test, y_train, y_test = train_test_split(X, y, test_size=0.25, random_state=0)\n",
        "\n",
        "reg = LinearRegression()\n",
        "reg.fit(X_train, y_train)\n",
        "\n",
        "predicted = reg.predict(X_test)"
      ],
      "execution_count": 42,
      "outputs": []
    },
    {
      "cell_type": "markdown",
      "metadata": {
        "id": "Owt42SrEyuLf"
      },
      "source": [
        "With one predictor, our linear model can be shown as a line.\n",
        "Let's look at the model compared to the data."
      ]
    },
    {
      "cell_type": "code",
      "metadata": {
        "colab": {
          "base_uri": "https://localhost:8080/",
          "height": 372
        },
        "id": "VB1_gNXlyuLf",
        "outputId": "7726473f-ae5b-4cbb-e841-27c2982f3913"
      },
      "source": [
        "#@ 4 Create a scatterplot of Price by Mileage (Price on y axis),\n",
        "# then superimpose your linear model on it (as a line).  Do not use\n",
        "# Seaborn's regplot for this -- use two plotting statements.\n",
        "\n",
        "sns.scatterplot(y_test, predicted)\n",
        "\n",
        "plt.plot([15000, 30000], [15000, 30000], color='grey', linestyle='dashed')\n",
        "plt.xlabel('actual')\n",
        "plt.ylabel('predicted')\n",
        "plt.title('predicted vs actual values')"
      ],
      "execution_count": 43,
      "outputs": [
        {
          "output_type": "stream",
          "text": [
            "/usr/local/lib/python3.7/dist-packages/seaborn/_decorators.py:43: FutureWarning: Pass the following variables as keyword args: x, y. From version 0.12, the only valid positional argument will be `data`, and passing other arguments without an explicit keyword will result in an error or misinterpretation.\n",
            "  FutureWarning\n"
          ],
          "name": "stderr"
        },
        {
          "output_type": "execute_result",
          "data": {
            "text/plain": [
              "Text(0.5, 1.0, 'predicted vs actual values')"
            ]
          },
          "metadata": {
            "tags": []
          },
          "execution_count": 43
        },
        {
          "output_type": "display_data",
          "data": {
            "image/png": "[encoded data removed]",
            "text/plain": [
              "<Figure size 432x288 with 1 Axes>"
            ]
          },
          "metadata": {
            "tags": []
          }
        }
      ]
    },
    {
      "cell_type": "markdown",
      "metadata": {
        "id": "9qhjsn7cyuLk"
      },
      "source": [
        "What are the coefficients of the model?"
      ]
    },
    {
      "cell_type": "code",
      "metadata": {
        "colab": {
          "base_uri": "https://localhost:8080/"
        },
        "id": "F_kX1m0eyuLk",
        "outputId": "ea118228-c1e3-4b43-8212-612e63c3a932"
      },
      "source": [
        "#@ 5 Print the coefficients and R-squared value of the model.\n",
        "# Hint: to get the R-squared value you can use the score() \n",
        "# method of LinearRegression.\n",
        "\n",
        "print('score', reg.score(X, y))\n",
        "print('coef', reg.coef_)"
      ],
      "execution_count": 44,
      "outputs": [
        {
          "output_type": "stream",
          "text": [
            "score 0.020202233954578208\n",
            "coef [-0.19076738]\n"
          ],
          "name": "stdout"
        }
      ]
    },
    {
      "cell_type": "markdown",
      "metadata": {
        "id": "zM6J3BLCyuLn"
      },
      "source": [
        "The model says that for every extra mile of milage, our prediction for price will go down by 17 cents!  It makes sense that more milage means a lower price.   Let's build another model to predict price, but this time using cruise control and leather interior as additional features."
      ]
    },
    {
      "cell_type": "code",
      "metadata": {
        "id": "Xv6uqTMMyuLn"
      },
      "source": [
        "#@ 6 Create a new linear model for Price using predictors Mileage,\n",
        "# cruise, and Leather.  Assign your model to variable reg2.\n",
        "\n",
        "y = df['Price'].values\n",
        "predictors = ['Mileage', 'Cruise', 'Leather']\n",
        "X = df[predictors].values\n",
        "\n",
        "X_train, X_test, y_train, y_test = train_test_split(X, y, test_size=0.25, random_state=0)\n",
        "\n",
        "reg = LinearRegression()\n",
        "reg.fit(X_train, y_train)\n",
        "\n",
        "predicted = reg.predict(X_test)"
      ],
      "execution_count": 45,
      "outputs": []
    },
    {
      "cell_type": "markdown",
      "metadata": {
        "id": "RiFyzUrEyuLs"
      },
      "source": [
        "Here are the coefficients of our new model.  "
      ]
    },
    {
      "cell_type": "code",
      "metadata": {
        "colab": {
          "base_uri": "https://localhost:8080/"
        },
        "id": "rHGqR7DNyuLs",
        "outputId": "10c6f943-0103-4888-8d9e-714d750e5044"
      },
      "source": [
        "#@ 7 Print the coefficients (including intercept) for the new model.\n",
        "# Hint: (Use print()'{:.2f}'.format(x)) to print a value\n",
        "# x with 2 digits after the decimal point.)\n",
        "\n",
        "print('score', round(reg.score(X, y), 2))\n",
        "\n",
        "count = 1\n",
        "for coef in reg.coef_:\n",
        "  print('coef', count, round(coef, 2))\n",
        "  count += 1"
      ],
      "execution_count": 46,
      "outputs": [
        {
          "output_type": "stream",
          "text": [
            "score 0.24\n",
            "coef 1 -0.19\n",
            "coef 2 10329.3\n",
            "coef 3 4514.94\n"
          ],
          "name": "stdout"
        }
      ]
    },
    {
      "cell_type": "markdown",
      "metadata": {
        "id": "-XmOQ0VFyuLv"
      },
      "source": [
        "Amazingly, the coefficient for cruise control indicates that -- in this model -- the presence of cruise control will increase the predicted price by over $10,000.  That seems crazy, but maybe cruise control is a good differentiator between a cheap car and an expensive car."
      ]
    },
    {
      "cell_type": "markdown",
      "metadata": {
        "id": "CuySo9g0yuLw"
      },
      "source": [
        "What would this model predict for the price of a car with 20,000 miles and cruise control but not a leather interior?"
      ]
    },
    {
      "cell_type": "code",
      "metadata": {
        "colab": {
          "base_uri": "https://localhost:8080/"
        },
        "id": "C9B8qbZkyuLx",
        "outputId": "272db63b-7038-468d-d9d2-a0eba550f96a"
      },
      "source": [
        "#@ 8 Using your model, compute the predicted price for\n",
        "# a car with a mileage of 20,000 and cruise but no leather.\n",
        "# Hint: create a matrix to predict() that contains only one row.\n",
        "# Print the predicted price.  \n",
        "\n",
        "test = [[20000, 1, 0]]\n",
        "e_prediction = reg.predict(test)\n",
        "\n",
        "print(e_prediction)"
      ],
      "execution_count": 47,
      "outputs": [
        {
          "output_type": "stream",
          "text": [
            "[20675.68273365]\n"
          ],
          "name": "stdout"
        }
      ]
    },
    {
      "cell_type": "markdown",
      "metadata": {
        "id": "iCOfwofKyuL0"
      },
      "source": [
        "A good way to see how well a regression model is working is to plot predicted values against actual values.   In our case we'll plot predicted price vs. actual price.  Ideally, all points will be close to the line showing where actual=predicted."
      ]
    },
    {
      "cell_type": "code",
      "metadata": {
        "colab": {
          "base_uri": "https://localhost:8080/",
          "height": 130
        },
        "id": "zfb6zaHUyuL1",
        "outputId": "db6e92ad-77ef-4d1d-b6ab-050d2cf13469"
      },
      "source": [
        "#@ 9 Define a function named 'plot_actual_predicted' to plot predicted vs actual values.\n",
        "# It should take as input a NumPy array of actual values, a NumPy array of\n",
        "# predicted values, and a plot title.  The two arrays can be assumed to be the same length.\n",
        "# I used linewidth=2 and linestyle='dashed' for the actual=predicted line.\n",
        "#\n",
        "# Hint: when plotting, first plot the scatter plot and then plot the line that\n",
        "# shows when predicted=actual.  You need only two points to plot the line where\n",
        "# actual = predicted, and the points should have the form (a,a), (b,b).\n",
        "# To determine what a and b should be, you may want to compute 1) the minimum\n",
        "# value of actual and predicted, and 2) the maximum value of actual and predicted.\n",
        "\n",
        "def plot_actual_predicted(actual, predicted, title):\n",
        "    # YOUR CODE HERE"
      ],
      "execution_count": 48,
      "outputs": [
        {
          "output_type": "error",
          "ename": "SyntaxError",
          "evalue": "ignored",
          "traceback": [
            "\u001b[0;36m  File \u001b[0;32m\"<ipython-input-48-5d483cc107b9>\"\u001b[0;36m, line \u001b[0;32m13\u001b[0m\n\u001b[0;31m    # YOUR CODE HERE\u001b[0m\n\u001b[0m                    ^\u001b[0m\n\u001b[0;31mSyntaxError\u001b[0m\u001b[0;31m:\u001b[0m unexpected EOF while parsing\n"
          ]
        }
      ]
    },
    {
      "cell_type": "code",
      "metadata": {
        "id": "CRifdhnayuL3"
      },
      "source": [
        "# plot predicted vs. actual for your linear model\n",
        "    \n",
        "plot_actual_predicted(y, reg2.predict(X), 'Predicted by actual (car price model 2)')"
      ],
      "execution_count": null,
      "outputs": []
    },
    {
      "cell_type": "markdown",
      "metadata": {
        "id": "p48LHqSKyuL6"
      },
      "source": [
        "The plot shows that many predictions are bad -- they are far off the line.  The points on the far right are cases in which our predicted price is much less than the actual price.  For example, in one of these points the actual price is about 60,000 dollars but our predicted price is about 24,000 dollars.   In the other direction, there's a car with an actual price of about 10,000 in which our model predicts about 25,000.  You wouldn't want to use this model in deciding how much to pay for a used car."
      ]
    },
    {
      "cell_type": "markdown",
      "metadata": {
        "id": "4BjDx2j6yuL7"
      },
      "source": [
        "We've been using one data set both to train our model and to make predictions.  It's much better to split the data into separate training and set sets."
      ]
    },
    {
      "cell_type": "code",
      "metadata": {
        "id": "QkctPXoXyuL8"
      },
      "source": [
        "X_train, X_test, y_train, y_test = train_test_split(X, y, test_size=0.25, random_state=0)"
      ],
      "execution_count": null,
      "outputs": []
    },
    {
      "cell_type": "markdown",
      "metadata": {
        "id": "_zCXKFj0yuL-"
      },
      "source": [
        "Now let's fit our same model using only training data."
      ]
    },
    {
      "cell_type": "code",
      "metadata": {
        "id": "EjQv0nTtyuL_"
      },
      "source": [
        "#@ 10 Create another linear model (again building a model to predict Price from \n",
        "# Mileage, Cruise, and Leather).  Call your new model reg3.  \n",
        "# However, this time fit the model using the training data.\n",
        "\n",
        "# YOUR CODE HERE"
      ],
      "execution_count": null,
      "outputs": []
    },
    {
      "cell_type": "markdown",
      "metadata": {
        "id": "TiDjTSNOyuMB"
      },
      "source": [
        "Let's plot predicted vs. actual for predictions made on the training set.  This should be similar to our last predicted vs. actual plot."
      ]
    },
    {
      "cell_type": "code",
      "metadata": {
        "id": "NOL5EuolyuMC"
      },
      "source": [
        "#@ 11 Plot the actual and predicted values using your function\n",
        "# plot_actual_predicted().\n",
        "# Use the training data.\n",
        "\n",
        "# YOUR CODE HERE"
      ],
      "execution_count": null,
      "outputs": []
    },
    {
      "cell_type": "markdown",
      "metadata": {
        "id": "Qik4B-8jyuMF"
      },
      "source": [
        "Now let's do a predicted vs. actual plot for predictions made on the test data.  "
      ]
    },
    {
      "cell_type": "code",
      "metadata": {
        "id": "myLc-uB8yuMG"
      },
      "source": [
        "#@ 12 Plot the actual and predicted values using plot_actual_predicted().\n",
        "# This time use the test data.\n",
        "\n",
        "# YOUR CODE HERE"
      ],
      "execution_count": null,
      "outputs": []
    },
    {
      "cell_type": "markdown",
      "metadata": {
        "id": "v99W7P0UyuMI"
      },
      "source": [
        "The two plots look pretty similar.  Again we see some really bad predictions, like the predicted price of about 28,000 for a car having an actual price of 70,000."
      ]
    },
    {
      "cell_type": "markdown",
      "metadata": {
        "id": "LXiPE3N4yuMK"
      },
      "source": [
        "A good way to measure the goodness of a regression model is by using the root mean squared error."
      ]
    },
    {
      "cell_type": "code",
      "metadata": {
        "id": "R1uFGDBTyuML"
      },
      "source": [
        "#@ 13 Print the root mean squared error on the test data.  This is the \n",
        "# square root of the average squared error.  Write your own code\n",
        "# to compute the RMSE; don't use a library function.\n",
        "\n",
        "# YOUR CODE HERE"
      ],
      "execution_count": null,
      "outputs": []
    },
    {
      "cell_type": "markdown",
      "metadata": {
        "id": "ek-rGsQmyuMO"
      },
      "source": [
        "We can make better predictions if we use more features as predictors.  Let's use a feature that represents the number of cylinders in a car's engine."
      ]
    },
    {
      "cell_type": "code",
      "metadata": {
        "id": "oNJkRhqRyuMO"
      },
      "source": [
        "#@ 14 Create a new model reg4 that is like reg3, but adds 'Cylinder'\n",
        "# as a new predictor.  Do a train/test split (with random_state = 0), and fit your model to \n",
        "# the training data.\n",
        "\n",
        "# YOUR CODE HERE"
      ],
      "execution_count": null,
      "outputs": []
    },
    {
      "cell_type": "markdown",
      "metadata": {
        "id": "JpMbK4WCyuMQ"
      },
      "source": [
        "Let's look at the RMSE of the new model, as well as the R-squared statistic."
      ]
    },
    {
      "cell_type": "code",
      "metadata": {
        "id": "H-RHfcofyuMT"
      },
      "source": [
        "# Print the RMSE of your new model on the test data, \n",
        "# and R-squared value of your new model (on the training data)\n",
        "\n",
        "print('RMSE of reg4: {:.2f}'.format(np.sqrt(mean_squared_error(y_test, reg4.predict(X_test)))))\n",
        "print('r-squared value of reg4: {:.4f}'.format(reg4.score(X_train,y_train)))"
      ],
      "execution_count": null,
      "outputs": []
    },
    {
      "cell_type": "markdown",
      "metadata": {
        "id": "Hv1D9W4kyuMV"
      },
      "source": [
        "The new cylinder feature reduces the RMSE by over 10 percent.  Let's look at predicted vs. actual for the new model."
      ]
    },
    {
      "cell_type": "code",
      "metadata": {
        "id": "heEu6AWUyuMV"
      },
      "source": [
        "#@ 15 Plot the actual and predicted values using plot_actual_predicted().\n",
        "# Use test data for your predictions.\n",
        "\n",
        "# YOUR CODE HERE"
      ],
      "execution_count": null,
      "outputs": []
    },
    {
      "cell_type": "markdown",
      "metadata": {
        "id": "tqCwWB72yuMY"
      },
      "source": [
        "Some of the predictions are still really bad.  Would scaling the data help us make better predictions?"
      ]
    },
    {
      "cell_type": "code",
      "metadata": {
        "id": "8Se0-l7UyuMZ"
      },
      "source": [
        "#@ 16  Using predictors Mileage, Cruise, Leather, and Cylinder, make\n",
        "# NumPy arrays X and y, where y contains the values in column Price.\n",
        "# then scale all columns of array X using scipy.stats.zscore.\n",
        "# Use X_s as the name of the scaled version of X.\n",
        "\n",
        "# YOUR CODE HERE"
      ],
      "execution_count": null,
      "outputs": []
    },
    {
      "cell_type": "markdown",
      "metadata": {
        "id": "fs88PrbByuMb"
      },
      "source": [
        "Let's check the R-squared score of our new model with scaled data.  How does it compare to the R-squared value above for the unscaled data?"
      ]
    },
    {
      "cell_type": "code",
      "metadata": {
        "id": "yeMqD4k-yuMb"
      },
      "source": [
        "X_train, X_test, y_train, y_test = train_test_split(X_s, y, test_size=0.25, random_state=0)\n",
        "\n",
        "regs = LinearRegression()\n",
        "regs.fit(X_train, y_train)\n",
        "\n",
        "print('r-squared value of regs: {:.4f}'.format(regs.score(X_train,y_train)))"
      ],
      "execution_count": null,
      "outputs": []
    },
    {
      "cell_type": "markdown",
      "metadata": {
        "id": "bXyQAws7yuMf"
      },
      "source": [
        "With Scikit-Learn, all features must be numeric.  Let's now transform all categorical variables into\n",
        "numeric variables using the dummy variables approach."
      ]
    },
    {
      "cell_type": "code",
      "metadata": {
        "id": "T3I8cSxHyuMf"
      },
      "source": [
        "#@ 17 Using pandas.get_dummies, convert all the categorical\n",
        "# columns of df into numerical columns.  Use option drop_first = True\n",
        "# so that, if the categorical variable has n different unique\n",
        "# values, then only n-1 dummy variables will be used.\n",
        "\n",
        "# YOUR CODE HERE"
      ],
      "execution_count": null,
      "outputs": []
    },
    {
      "cell_type": "markdown",
      "metadata": {
        "id": "2UlxTquXyuMh"
      },
      "source": [
        "A check to ensure that we now have only numeric variables."
      ]
    },
    {
      "cell_type": "code",
      "metadata": {
        "id": "yj4MUXNEyuMi"
      },
      "source": [
        "df.info()"
      ],
      "execution_count": null,
      "outputs": []
    },
    {
      "cell_type": "markdown",
      "metadata": {
        "id": "BwY5CdW-yuMt"
      },
      "source": [
        "Let's build a linear model in which we use all of the features as predictors, and look at the values of all the coefficients."
      ]
    },
    {
      "cell_type": "code",
      "metadata": {
        "id": "vk8tO7ZkyuMt"
      },
      "source": [
        "#@ 18 Make a model with all features.  \n",
        "# First, create X and y where y contains 'Price' values\n",
        "# and X contains the other columns of df.\n",
        "# Next, perform a test train split to get X_train, X_test, etc.\n",
        "# Then create a linear model using LinearRegression.  Call your model reg5.  \n",
        "# Finally, print the coefficients of your model (use a loop\n",
        "# in printing all coefficients except the intercept).\n",
        "\n",
        "# YOUR CODE HERE"
      ],
      "execution_count": null,
      "outputs": []
    },
    {
      "cell_type": "markdown",
      "metadata": {
        "id": "84dIC03XyuMv"
      },
      "source": [
        "It is interesting to look at the coefficient values.  We see that Saab commands a premium price, and that coupes are associated with a low price compared to sedans.  None of the features like cruise control, sound system, or leather seats make a big different in the predictions from this model."
      ]
    },
    {
      "cell_type": "code",
      "metadata": {
        "id": "XYvGmCHSyuMw"
      },
      "source": [
        "#@ 19 Print the r-squared value for your model based on the training data\n",
        "# and also print the RMSE based on the test data.\n",
        "    \n",
        "# YOUR CODE HERE"
      ],
      "execution_count": null,
      "outputs": []
    },
    {
      "cell_type": "markdown",
      "metadata": {
        "id": "QF9CFCjzyuMz"
      },
      "source": [
        "We can add even more features to the model by adding derived features.  Let's try the PolynomialFeatures class."
      ]
    },
    {
      "cell_type": "code",
      "metadata": {
        "id": "lMZj885DyuMz"
      },
      "source": [
        "#@ 20 From your NumPy array X create an extended data set X_poly using\n",
        "# PolynomialFeatures with degree=2.  Assign your PolynomialFeatures\n",
        "# object to variable pf.\n",
        "\n",
        "# YOUR CODE HERE"
      ],
      "execution_count": null,
      "outputs": []
    },
    {
      "cell_type": "markdown",
      "metadata": {
        "id": "jW5Rhu3myuM1"
      },
      "source": [
        "For a sanity check, how many rows and columns in the new data set?"
      ]
    },
    {
      "cell_type": "code",
      "metadata": {
        "id": "puGlvEl5yuM1"
      },
      "source": [
        "X_poly.shape"
      ],
      "execution_count": null,
      "outputs": []
    },
    {
      "cell_type": "markdown",
      "metadata": {
        "id": "4IzB1iZHyuM3"
      },
      "source": [
        "Let's go for broke and build a model using *all* features.  What is the RMSE on the test data for such a model?"
      ]
    },
    {
      "cell_type": "code",
      "metadata": {
        "id": "QwRRaSWryuM3"
      },
      "source": [
        "#@ 21 Create a model reg6 using all of these features.  First\n",
        "# create training and test sets (using X_poly and y), then \n",
        "# train a linear model on the training data, and then compute \n",
        "# the RMSE on the test data.\n",
        "\n",
        "# YOUR CODE HERE"
      ],
      "execution_count": null,
      "outputs": []
    },
    {
      "cell_type": "markdown",
      "metadata": {
        "id": "AIdhV6uiyuM5"
      },
      "source": [
        "This RMSE value is much lower than before, but our model has 153 features!\n",
        "It would be good to know which feature is the most important.\n",
        "As an experiment, let's look at the RMSE if we use only the first feature."
      ]
    },
    {
      "cell_type": "code",
      "metadata": {
        "id": "1R8ENTxlyuM6"
      },
      "source": [
        "# make a version of the training data with just feature 0\n",
        "X_0 = X_train[:,[0]]\n",
        "\n",
        "# compute negated mean square error scores using 5-fold cross validation\n",
        "scores = cross_val_score(LinearRegression(), X_0, y_train, scoring='neg_mean_squared_error', cv=5)\n",
        "\n",
        "# work out the average root mean squared error.  We need to\n",
        "# first negate the scores, because they are negative MSE, not MSE.\n",
        "rmse = np.sqrt(-scores.mean())\n",
        "\n",
        "print('RMSE for feature 0 only: {:.2f}'. format(rmse))"
      ],
      "execution_count": null,
      "outputs": []
    },
    {
      "cell_type": "markdown",
      "metadata": {
        "id": "HL3p6k60yuM7"
      },
      "source": [
        "Now we'll compute the RMSE for each individual feature, and see which is lowest."
      ]
    },
    {
      "cell_type": "code",
      "metadata": {
        "id": "scSvvsnWyuM8"
      },
      "source": [
        "#@ 22 Using the ideas in the last cell, compute the RMSE for each individual \n",
        "# feature using 5-fold cross validation.  Save the index and RMSE associated \n",
        "# with the best feature as the two variables i_min and rmse_min.\n",
        "\n",
        "# YOUR CODE HERE"
      ],
      "execution_count": null,
      "outputs": []
    },
    {
      "cell_type": "markdown",
      "metadata": {
        "id": "PBWtsqYOyuM9"
      },
      "source": [
        "Which single feature has the lowest RMSE?"
      ]
    },
    {
      "cell_type": "code",
      "metadata": {
        "id": "s7eVtedjyuM9"
      },
      "source": [
        "print('best feature: {}, best RMSE: {:.2f}'.format(pf.get_feature_names()[i_min], rmse_min))"
      ],
      "execution_count": null,
      "outputs": []
    },
    {
      "cell_type": "markdown",
      "metadata": {
        "id": "Yi18qvoLyuM_"
      },
      "source": [
        "Which is the best set of 10 features?  The number of possible sets\n",
        "of 10 features is equal to 153 * 152 * 151 * ... * 144, which is a gigantic\n",
        "number (bigger than a billion billion).  Instead we can use forward\n",
        "feature selection, which is a kind of greedy method."
      ]
    },
    {
      "cell_type": "code",
      "metadata": {
        "id": "j-tbahmiyuM_"
      },
      "source": [
        "#@ 23 Find the 10 features that give the lowest RMSE by using\n",
        "# forward search.  Important: find the single best feature, then\n",
        "# find one more feature that is the best *when combined with\n",
        "# the single best feature*, and continue, always looking for\n",
        "# the single best feature combined with all previously-selected\n",
        "# features.\n",
        "#\n",
        "# I've filled in some of the code for you.  'remaining' is a list\n",
        "# of the features to be considered when finding the next best \n",
        "# feature.  It is initialized to all the features.  'selected' is\n",
        "# a list of the features that have been chosen in a round of finding the\n",
        "# next best feature.  It is initialized to the empty list.\n",
        "# \n",
        "# Don't forget to have include all selected features when looking\n",
        "# for the next best feature.\n",
        "\n",
        "remaining = list(range(X_train.shape[1]))\n",
        "selected = []\n",
        "n = 10\n",
        "while len(selected) < n:\n",
        "    # find the single features that works best in conjunction\n",
        "    # with the already selected features\n",
        "    rmse_min = 1e7\n",
        "    for i in remaining:\n",
        "        # YOUR CODE HERE\n",
        "            \n",
        "    remaining.remove(i_min)\n",
        "    selected.append(i_min)\n",
        "    print('num features: {}; rmse: {:.2f}'.format(len(selected), rmse_min))"
      ],
      "execution_count": null,
      "outputs": []
    },
    {
      "cell_type": "markdown",
      "metadata": {
        "id": "wAUpb11JyuNB"
      },
      "source": [
        "How does the test RMSE of the model created using the 10 features\n",
        "found with forward feature selection compare with the test RMSE of\n",
        "the model that uses all the features?"
      ]
    },
    {
      "cell_type": "code",
      "metadata": {
        "id": "BdKOR_Y_yuNC"
      },
      "source": [
        "#@ 24 Print the RMSE of the best 10 features on the test set\n",
        "    \n",
        "# YOUR CODE HERE\n",
        "    "
      ],
      "execution_count": null,
      "outputs": []
    },
    {
      "cell_type": "code",
      "metadata": {
        "id": "RjVeqSJEyuNE"
      },
      "source": [
        ""
      ],
      "execution_count": null,
      "outputs": []
    }
  ]
}